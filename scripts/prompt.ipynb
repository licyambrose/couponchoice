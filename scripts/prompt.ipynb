{
 "cells": [
  {
   "cell_type": "markdown",
   "metadata": {
    "id": "CcUT6Fon_qRE"
   },
   "source": [
    "### Required Assignment 5.1: Will the Customer Accept the Coupon?\n",
    "\n",
    "**Context**\n",
    "\n",
    "Imagine driving through town and a coupon is delivered to your cell phone for a restaurant near where you are driving. Would you accept that coupon and take a short detour to the restaurant? Would you accept the coupon but use it on a subsequent trip? Would you ignore the coupon entirely? What if the coupon was for a bar instead of a restaurant? What about a coffee house? Would you accept a bar coupon with a minor passenger in the car? What about if it was just you and your partner in the car? Would weather impact the rate of acceptance? What about the time of day?\n",
    "\n",
    "Obviously, proximity to the business is a factor on whether the coupon is delivered to the driver or not, but what are the factors that determine whether a driver accepts the coupon once it is delivered to them? How would you determine whether a driver is likely to accept a coupon?\n",
    "\n",
    "**Overview**\n",
    "\n",
    "The goal of this project is to use what you know about visualizations and probability distributions to distinguish between customers who accepted a driving coupon versus those that did not.\n",
    "\n",
    "**Data**\n",
    "\n",
    "This data comes to us from the UCI Machine Learning repository and was collected via a survey on Amazon Mechanical Turk. The survey describes different driving scenarios including the destination, current time, weather, passenger, etc., and then ask the person whether he will accept the coupon if he is the driver. Answers that the user will drive there ‘right away’ or ‘later before the coupon expires’ are labeled as ‘Y = 1’ and answers ‘no, I do not want the coupon’ are labeled as ‘Y = 0’.  There are five different types of coupons -- less expensive restaurants (under \\$20), coffee houses, carry out & take away, bar, and more expensive restaurants (\\$20 - $50)."
   ]
  },
  {
   "cell_type": "markdown",
   "metadata": {
    "id": "1wORvMBJ_qRF"
   },
   "source": [
    "**Deliverables**\n",
    "\n",
    "Your final product should be a brief report that highlights the differences between customers who did and did not accept the coupons.  To explore the data you will utilize your knowledge of plotting, statistical summaries, and visualization using Python. You will publish your findings in a public facing github repository as your first portfolio piece.\n",
    "\n",
    "\n",
    "\n"
   ]
  },
  {
   "cell_type": "markdown",
   "metadata": {
    "id": "pG6_Ym6q_qRG"
   },
   "source": [
    "### Data Description\n",
    "Keep in mind that these values mentioned below are average values.\n",
    "\n",
    "The attributes of this data set include:\n",
    "1. User attributes\n",
    "    -  Gender: male, female\n",
    "    -  Age: below 21, 21 to 25, 26 to 30, etc.\n",
    "    -  Marital Status: single, married partner, unmarried partner, or widowed\n",
    "    -  Number of children: 0, 1, or more than 1\n",
    "    -  Education: high school, bachelors degree, associates degree, or graduate degree\n",
    "    -  Occupation: architecture & engineering, business & financial, etc.\n",
    "    -  Annual income: less than \\\\$12500, \\\\$12500 - \\\\$24999, \\\\$25000 - \\\\$37499, etc.\n",
    "    -  Number of times that he/she goes to a bar: 0, less than 1, 1 to 3, 4 to 8 or greater than 8\n",
    "    -  Number of times that he/she buys takeaway food: 0, less than 1, 1 to 3, 4 to 8 or greater\n",
    "    than 8\n",
    "    -  Number of times that he/she goes to a coffee house: 0, less than 1, 1 to 3, 4 to 8 or\n",
    "    greater than 8\n",
    "    -  Number of times that he/she eats at a restaurant with average expense less than \\\\$20 per\n",
    "    person: 0, less than 1, 1 to 3, 4 to 8 or greater than 8\n",
    "    -  Number of times that he/she goes to a bar: 0, less than 1, 1 to 3, 4 to 8 or greater than 8\n",
    "    \n",
    "\n",
    "2. Contextual attributes\n",
    "    - Driving destination: home, work, or no urgent destination\n",
    "    - Location of user, coupon and destination: we provide a map to show the geographical\n",
    "    location of the user, destination, and the venue, and we mark the distance between each\n",
    "    two places with time of driving. The user can see whether the venue is in the same\n",
    "    direction as the destination.\n",
    "    - Weather: sunny, rainy, or snowy\n",
    "    - Temperature: 30F, 55F, or 80F\n",
    "    - Time: 10AM, 2PM, or 6PM\n",
    "    - Passenger: alone, partner, kid(s), or friend(s)\n",
    "\n",
    "\n",
    "3. Coupon attributes\n",
    "    - time before it expires: 2 hours or one day"
   ]
  },
  {
   "cell_type": "code",
   "metadata": {
    "id": "dzNoP3o__qRG",
    "ExecuteTime": {
     "end_time": "2025-05-14T06:08:55.776567Z",
     "start_time": "2025-05-14T06:08:55.773338Z"
    }
   },
   "source": [
    "import matplotlib.pyplot as plt\n",
    "import seaborn as sns\n",
    "import pandas as pd\n",
    "import numpy as np"
   ],
   "outputs": [],
   "execution_count": 30
  },
  {
   "cell_type": "markdown",
   "metadata": {
    "id": "Ct8pI1uE_qRG"
   },
   "source": [
    "### Problems\n",
    "\n",
    "Use the prompts below to get started with your data analysis.  \n",
    "\n",
    "1. Read in the `coupons.csv` file.\n",
    "\n",
    "\n"
   ]
  },
  {
   "cell_type": "code",
   "metadata": {
    "id": "X0vbffYg_qRH",
    "ExecuteTime": {
     "end_time": "2025-05-14T06:08:55.849941Z",
     "start_time": "2025-05-14T06:08:55.822507Z"
    }
   },
   "source": "data = pd.read_csv('../data/coupons.csv')",
   "outputs": [],
   "execution_count": 31
  },
  {
   "cell_type": "code",
   "metadata": {
    "id": "TXofQ_DF_qRH",
    "outputId": "2fc96a2c-1112-4b54-f24f-dbb9bc88abfb",
    "ExecuteTime": {
     "end_time": "2025-05-14T06:08:55.867452Z",
     "start_time": "2025-05-14T06:08:55.857034Z"
    }
   },
   "source": [
    "data.head()"
   ],
   "outputs": [
    {
     "data": {
      "text/plain": [
       "       destination  passanger weather  temperature  time  \\\n",
       "0  No Urgent Place      Alone   Sunny           55   2PM   \n",
       "1  No Urgent Place  Friend(s)   Sunny           80  10AM   \n",
       "2  No Urgent Place  Friend(s)   Sunny           80  10AM   \n",
       "3  No Urgent Place  Friend(s)   Sunny           80   2PM   \n",
       "4  No Urgent Place  Friend(s)   Sunny           80   2PM   \n",
       "\n",
       "                  coupon expiration  gender age      maritalStatus  ...  \\\n",
       "0        Restaurant(<20)         1d  Female  21  Unmarried partner  ...   \n",
       "1           Coffee House         2h  Female  21  Unmarried partner  ...   \n",
       "2  Carry out & Take away         2h  Female  21  Unmarried partner  ...   \n",
       "3           Coffee House         2h  Female  21  Unmarried partner  ...   \n",
       "4           Coffee House         1d  Female  21  Unmarried partner  ...   \n",
       "\n",
       "   CoffeeHouse CarryAway RestaurantLessThan20 Restaurant20To50  \\\n",
       "0        never       NaN                  4~8              1~3   \n",
       "1        never       NaN                  4~8              1~3   \n",
       "2        never       NaN                  4~8              1~3   \n",
       "3        never       NaN                  4~8              1~3   \n",
       "4        never       NaN                  4~8              1~3   \n",
       "\n",
       "  toCoupon_GEQ5min toCoupon_GEQ15min toCoupon_GEQ25min direction_same  \\\n",
       "0                1                 0                 0              0   \n",
       "1                1                 0                 0              0   \n",
       "2                1                 1                 0              0   \n",
       "3                1                 1                 0              0   \n",
       "4                1                 1                 0              0   \n",
       "\n",
       "  direction_opp  Y  \n",
       "0             1  1  \n",
       "1             1  0  \n",
       "2             1  1  \n",
       "3             1  0  \n",
       "4             1  0  \n",
       "\n",
       "[5 rows x 26 columns]"
      ],
      "text/html": [
       "<div>\n",
       "<style scoped>\n",
       "    .dataframe tbody tr th:only-of-type {\n",
       "        vertical-align: middle;\n",
       "    }\n",
       "\n",
       "    .dataframe tbody tr th {\n",
       "        vertical-align: top;\n",
       "    }\n",
       "\n",
       "    .dataframe thead th {\n",
       "        text-align: right;\n",
       "    }\n",
       "</style>\n",
       "<table border=\"1\" class=\"dataframe\">\n",
       "  <thead>\n",
       "    <tr style=\"text-align: right;\">\n",
       "      <th></th>\n",
       "      <th>destination</th>\n",
       "      <th>passanger</th>\n",
       "      <th>weather</th>\n",
       "      <th>temperature</th>\n",
       "      <th>time</th>\n",
       "      <th>coupon</th>\n",
       "      <th>expiration</th>\n",
       "      <th>gender</th>\n",
       "      <th>age</th>\n",
       "      <th>maritalStatus</th>\n",
       "      <th>...</th>\n",
       "      <th>CoffeeHouse</th>\n",
       "      <th>CarryAway</th>\n",
       "      <th>RestaurantLessThan20</th>\n",
       "      <th>Restaurant20To50</th>\n",
       "      <th>toCoupon_GEQ5min</th>\n",
       "      <th>toCoupon_GEQ15min</th>\n",
       "      <th>toCoupon_GEQ25min</th>\n",
       "      <th>direction_same</th>\n",
       "      <th>direction_opp</th>\n",
       "      <th>Y</th>\n",
       "    </tr>\n",
       "  </thead>\n",
       "  <tbody>\n",
       "    <tr>\n",
       "      <th>0</th>\n",
       "      <td>No Urgent Place</td>\n",
       "      <td>Alone</td>\n",
       "      <td>Sunny</td>\n",
       "      <td>55</td>\n",
       "      <td>2PM</td>\n",
       "      <td>Restaurant(&lt;20)</td>\n",
       "      <td>1d</td>\n",
       "      <td>Female</td>\n",
       "      <td>21</td>\n",
       "      <td>Unmarried partner</td>\n",
       "      <td>...</td>\n",
       "      <td>never</td>\n",
       "      <td>NaN</td>\n",
       "      <td>4~8</td>\n",
       "      <td>1~3</td>\n",
       "      <td>1</td>\n",
       "      <td>0</td>\n",
       "      <td>0</td>\n",
       "      <td>0</td>\n",
       "      <td>1</td>\n",
       "      <td>1</td>\n",
       "    </tr>\n",
       "    <tr>\n",
       "      <th>1</th>\n",
       "      <td>No Urgent Place</td>\n",
       "      <td>Friend(s)</td>\n",
       "      <td>Sunny</td>\n",
       "      <td>80</td>\n",
       "      <td>10AM</td>\n",
       "      <td>Coffee House</td>\n",
       "      <td>2h</td>\n",
       "      <td>Female</td>\n",
       "      <td>21</td>\n",
       "      <td>Unmarried partner</td>\n",
       "      <td>...</td>\n",
       "      <td>never</td>\n",
       "      <td>NaN</td>\n",
       "      <td>4~8</td>\n",
       "      <td>1~3</td>\n",
       "      <td>1</td>\n",
       "      <td>0</td>\n",
       "      <td>0</td>\n",
       "      <td>0</td>\n",
       "      <td>1</td>\n",
       "      <td>0</td>\n",
       "    </tr>\n",
       "    <tr>\n",
       "      <th>2</th>\n",
       "      <td>No Urgent Place</td>\n",
       "      <td>Friend(s)</td>\n",
       "      <td>Sunny</td>\n",
       "      <td>80</td>\n",
       "      <td>10AM</td>\n",
       "      <td>Carry out &amp; Take away</td>\n",
       "      <td>2h</td>\n",
       "      <td>Female</td>\n",
       "      <td>21</td>\n",
       "      <td>Unmarried partner</td>\n",
       "      <td>...</td>\n",
       "      <td>never</td>\n",
       "      <td>NaN</td>\n",
       "      <td>4~8</td>\n",
       "      <td>1~3</td>\n",
       "      <td>1</td>\n",
       "      <td>1</td>\n",
       "      <td>0</td>\n",
       "      <td>0</td>\n",
       "      <td>1</td>\n",
       "      <td>1</td>\n",
       "    </tr>\n",
       "    <tr>\n",
       "      <th>3</th>\n",
       "      <td>No Urgent Place</td>\n",
       "      <td>Friend(s)</td>\n",
       "      <td>Sunny</td>\n",
       "      <td>80</td>\n",
       "      <td>2PM</td>\n",
       "      <td>Coffee House</td>\n",
       "      <td>2h</td>\n",
       "      <td>Female</td>\n",
       "      <td>21</td>\n",
       "      <td>Unmarried partner</td>\n",
       "      <td>...</td>\n",
       "      <td>never</td>\n",
       "      <td>NaN</td>\n",
       "      <td>4~8</td>\n",
       "      <td>1~3</td>\n",
       "      <td>1</td>\n",
       "      <td>1</td>\n",
       "      <td>0</td>\n",
       "      <td>0</td>\n",
       "      <td>1</td>\n",
       "      <td>0</td>\n",
       "    </tr>\n",
       "    <tr>\n",
       "      <th>4</th>\n",
       "      <td>No Urgent Place</td>\n",
       "      <td>Friend(s)</td>\n",
       "      <td>Sunny</td>\n",
       "      <td>80</td>\n",
       "      <td>2PM</td>\n",
       "      <td>Coffee House</td>\n",
       "      <td>1d</td>\n",
       "      <td>Female</td>\n",
       "      <td>21</td>\n",
       "      <td>Unmarried partner</td>\n",
       "      <td>...</td>\n",
       "      <td>never</td>\n",
       "      <td>NaN</td>\n",
       "      <td>4~8</td>\n",
       "      <td>1~3</td>\n",
       "      <td>1</td>\n",
       "      <td>1</td>\n",
       "      <td>0</td>\n",
       "      <td>0</td>\n",
       "      <td>1</td>\n",
       "      <td>0</td>\n",
       "    </tr>\n",
       "  </tbody>\n",
       "</table>\n",
       "<p>5 rows × 26 columns</p>\n",
       "</div>"
      ]
     },
     "execution_count": 32,
     "metadata": {},
     "output_type": "execute_result"
    }
   ],
   "execution_count": 32
  },
  {
   "cell_type": "markdown",
   "metadata": {
    "id": "GcDs78ZH_qRH"
   },
   "source": [
    "2. Investigate the dataset for missing or problematic data."
   ]
  },
  {
   "cell_type": "code",
   "metadata": {
    "id": "6CwL6oWj_qRH",
    "ExecuteTime": {
     "end_time": "2025-05-14T06:08:55.922247Z",
     "start_time": "2025-05-14T06:08:55.907651Z"
    }
   },
   "source": [
    "missing_values = data.isnull().sum()\n",
    "print(missing_values[missing_values > 0])\n"
   ],
   "outputs": [
    {
     "name": "stdout",
     "output_type": "stream",
     "text": [
      "car                     12576\n",
      "Bar                       107\n",
      "CoffeeHouse               217\n",
      "CarryAway                 151\n",
      "RestaurantLessThan20      130\n",
      "Restaurant20To50          189\n",
      "dtype: int64\n"
     ]
    }
   ],
   "execution_count": 33
  },
  {
   "metadata": {
    "ExecuteTime": {
     "end_time": "2025-05-14T06:08:55.979476Z",
     "start_time": "2025-05-14T06:08:55.951222Z"
    }
   },
   "cell_type": "code",
   "source": [
    "\n",
    "missing_corr = data.isnull().corr()\n",
    "\n",
    "# Display the correlation matrix\n",
    "print(\"Correlation matrix of missing values:\")\n",
    "print(missing_corr)"
   ],
   "outputs": [
    {
     "name": "stdout",
     "output_type": "stream",
     "text": [
      "Correlation matrix of missing values:\n",
      "                      destination  passanger  weather  temperature  time  \\\n",
      "destination                   NaN        NaN      NaN          NaN   NaN   \n",
      "passanger                     NaN        NaN      NaN          NaN   NaN   \n",
      "weather                       NaN        NaN      NaN          NaN   NaN   \n",
      "temperature                   NaN        NaN      NaN          NaN   NaN   \n",
      "time                          NaN        NaN      NaN          NaN   NaN   \n",
      "coupon                        NaN        NaN      NaN          NaN   NaN   \n",
      "expiration                    NaN        NaN      NaN          NaN   NaN   \n",
      "gender                        NaN        NaN      NaN          NaN   NaN   \n",
      "age                           NaN        NaN      NaN          NaN   NaN   \n",
      "maritalStatus                 NaN        NaN      NaN          NaN   NaN   \n",
      "has_children                  NaN        NaN      NaN          NaN   NaN   \n",
      "education                     NaN        NaN      NaN          NaN   NaN   \n",
      "occupation                    NaN        NaN      NaN          NaN   NaN   \n",
      "income                        NaN        NaN      NaN          NaN   NaN   \n",
      "car                           NaN        NaN      NaN          NaN   NaN   \n",
      "Bar                           NaN        NaN      NaN          NaN   NaN   \n",
      "CoffeeHouse                   NaN        NaN      NaN          NaN   NaN   \n",
      "CarryAway                     NaN        NaN      NaN          NaN   NaN   \n",
      "RestaurantLessThan20          NaN        NaN      NaN          NaN   NaN   \n",
      "Restaurant20To50              NaN        NaN      NaN          NaN   NaN   \n",
      "toCoupon_GEQ5min              NaN        NaN      NaN          NaN   NaN   \n",
      "toCoupon_GEQ15min             NaN        NaN      NaN          NaN   NaN   \n",
      "toCoupon_GEQ25min             NaN        NaN      NaN          NaN   NaN   \n",
      "direction_same                NaN        NaN      NaN          NaN   NaN   \n",
      "direction_opp                 NaN        NaN      NaN          NaN   NaN   \n",
      "Y                             NaN        NaN      NaN          NaN   NaN   \n",
      "\n",
      "                      coupon  expiration  gender  age  maritalStatus  ...  \\\n",
      "destination              NaN         NaN     NaN  NaN            NaN  ...   \n",
      "passanger                NaN         NaN     NaN  NaN            NaN  ...   \n",
      "weather                  NaN         NaN     NaN  NaN            NaN  ...   \n",
      "temperature              NaN         NaN     NaN  NaN            NaN  ...   \n",
      "time                     NaN         NaN     NaN  NaN            NaN  ...   \n",
      "coupon                   NaN         NaN     NaN  NaN            NaN  ...   \n",
      "expiration               NaN         NaN     NaN  NaN            NaN  ...   \n",
      "gender                   NaN         NaN     NaN  NaN            NaN  ...   \n",
      "age                      NaN         NaN     NaN  NaN            NaN  ...   \n",
      "maritalStatus            NaN         NaN     NaN  NaN            NaN  ...   \n",
      "has_children             NaN         NaN     NaN  NaN            NaN  ...   \n",
      "education                NaN         NaN     NaN  NaN            NaN  ...   \n",
      "occupation               NaN         NaN     NaN  NaN            NaN  ...   \n",
      "income                   NaN         NaN     NaN  NaN            NaN  ...   \n",
      "car                      NaN         NaN     NaN  NaN            NaN  ...   \n",
      "Bar                      NaN         NaN     NaN  NaN            NaN  ...   \n",
      "CoffeeHouse              NaN         NaN     NaN  NaN            NaN  ...   \n",
      "CarryAway                NaN         NaN     NaN  NaN            NaN  ...   \n",
      "RestaurantLessThan20     NaN         NaN     NaN  NaN            NaN  ...   \n",
      "Restaurant20To50         NaN         NaN     NaN  NaN            NaN  ...   \n",
      "toCoupon_GEQ5min         NaN         NaN     NaN  NaN            NaN  ...   \n",
      "toCoupon_GEQ15min        NaN         NaN     NaN  NaN            NaN  ...   \n",
      "toCoupon_GEQ25min        NaN         NaN     NaN  NaN            NaN  ...   \n",
      "direction_same           NaN         NaN     NaN  NaN            NaN  ...   \n",
      "direction_opp            NaN         NaN     NaN  NaN            NaN  ...   \n",
      "Y                        NaN         NaN     NaN  NaN            NaN  ...   \n",
      "\n",
      "                      CoffeeHouse  CarryAway  RestaurantLessThan20  \\\n",
      "destination                   NaN        NaN                   NaN   \n",
      "passanger                     NaN        NaN                   NaN   \n",
      "weather                       NaN        NaN                   NaN   \n",
      "temperature                   NaN        NaN                   NaN   \n",
      "time                          NaN        NaN                   NaN   \n",
      "coupon                        NaN        NaN                   NaN   \n",
      "expiration                    NaN        NaN                   NaN   \n",
      "gender                        NaN        NaN                   NaN   \n",
      "age                           NaN        NaN                   NaN   \n",
      "maritalStatus                 NaN        NaN                   NaN   \n",
      "has_children                  NaN        NaN                   NaN   \n",
      "education                     NaN        NaN                   NaN   \n",
      "occupation                    NaN        NaN                   NaN   \n",
      "income                        NaN        NaN                   NaN   \n",
      "car                      0.012226   0.010172              0.009430   \n",
      "Bar                      0.267030   0.323693              0.350084   \n",
      "CoffeeHouse              1.000000   0.220958              0.240106   \n",
      "CarryAway                0.220958   1.000000              0.291959   \n",
      "RestaurantLessThan20     0.240106   0.291959              1.000000   \n",
      "Restaurant20To50         0.299919   0.238494              0.258843   \n",
      "toCoupon_GEQ5min              NaN        NaN                   NaN   \n",
      "toCoupon_GEQ15min             NaN        NaN                   NaN   \n",
      "toCoupon_GEQ25min             NaN        NaN                   NaN   \n",
      "direction_same                NaN        NaN                   NaN   \n",
      "direction_opp                 NaN        NaN                   NaN   \n",
      "Y                             NaN        NaN                   NaN   \n",
      "\n",
      "                      Restaurant20To50  toCoupon_GEQ5min  toCoupon_GEQ15min  \\\n",
      "destination                        NaN               NaN                NaN   \n",
      "passanger                          NaN               NaN                NaN   \n",
      "weather                            NaN               NaN                NaN   \n",
      "temperature                        NaN               NaN                NaN   \n",
      "time                               NaN               NaN                NaN   \n",
      "coupon                             NaN               NaN                NaN   \n",
      "expiration                         NaN               NaN                NaN   \n",
      "gender                             NaN               NaN                NaN   \n",
      "age                                NaN               NaN                NaN   \n",
      "maritalStatus                      NaN               NaN                NaN   \n",
      "has_children                       NaN               NaN                NaN   \n",
      "education                          NaN               NaN                NaN   \n",
      "occupation                         NaN               NaN                NaN   \n",
      "income                             NaN               NaN                NaN   \n",
      "car                           0.011397               NaN                NaN   \n",
      "Bar                           0.287487               NaN                NaN   \n",
      "CoffeeHouse                   0.299919               NaN                NaN   \n",
      "CarryAway                     0.238494               NaN                NaN   \n",
      "RestaurantLessThan20          0.258843               NaN                NaN   \n",
      "Restaurant20To50              1.000000               NaN                NaN   \n",
      "toCoupon_GEQ5min                   NaN               NaN                NaN   \n",
      "toCoupon_GEQ15min                  NaN               NaN                NaN   \n",
      "toCoupon_GEQ25min                  NaN               NaN                NaN   \n",
      "direction_same                     NaN               NaN                NaN   \n",
      "direction_opp                      NaN               NaN                NaN   \n",
      "Y                                  NaN               NaN                NaN   \n",
      "\n",
      "                      toCoupon_GEQ25min  direction_same  direction_opp   Y  \n",
      "destination                         NaN             NaN            NaN NaN  \n",
      "passanger                           NaN             NaN            NaN NaN  \n",
      "weather                             NaN             NaN            NaN NaN  \n",
      "temperature                         NaN             NaN            NaN NaN  \n",
      "time                                NaN             NaN            NaN NaN  \n",
      "coupon                              NaN             NaN            NaN NaN  \n",
      "expiration                          NaN             NaN            NaN NaN  \n",
      "gender                              NaN             NaN            NaN NaN  \n",
      "age                                 NaN             NaN            NaN NaN  \n",
      "maritalStatus                       NaN             NaN            NaN NaN  \n",
      "has_children                        NaN             NaN            NaN NaN  \n",
      "education                           NaN             NaN            NaN NaN  \n",
      "occupation                          NaN             NaN            NaN NaN  \n",
      "income                              NaN             NaN            NaN NaN  \n",
      "car                                 NaN             NaN            NaN NaN  \n",
      "Bar                                 NaN             NaN            NaN NaN  \n",
      "CoffeeHouse                         NaN             NaN            NaN NaN  \n",
      "CarryAway                           NaN             NaN            NaN NaN  \n",
      "RestaurantLessThan20                NaN             NaN            NaN NaN  \n",
      "Restaurant20To50                    NaN             NaN            NaN NaN  \n",
      "toCoupon_GEQ5min                    NaN             NaN            NaN NaN  \n",
      "toCoupon_GEQ15min                   NaN             NaN            NaN NaN  \n",
      "toCoupon_GEQ25min                   NaN             NaN            NaN NaN  \n",
      "direction_same                      NaN             NaN            NaN NaN  \n",
      "direction_opp                       NaN             NaN            NaN NaN  \n",
      "Y                                   NaN             NaN            NaN NaN  \n",
      "\n",
      "[26 rows x 26 columns]\n"
     ]
    }
   ],
   "execution_count": 34
  },
  {
   "metadata": {
    "ExecuteTime": {
     "end_time": "2025-05-14T06:08:56.106445Z",
     "start_time": "2025-05-14T06:08:56.072552Z"
    }
   },
   "cell_type": "code",
   "source": [
    "# Check for duplicate rows\n",
    "duplicates = data.duplicated().sum()\n",
    "\n",
    "print(f\"Number of duplicate rows: {duplicates}\")\n",
    "\n",
    "# Display duplicate rows if any\n",
    "if duplicates > 0:\n",
    "    print(\"Duplicate rows:\")\n",
    "    print(data[data.duplicated()])"
   ],
   "outputs": [
    {
     "name": "stdout",
     "output_type": "stream",
     "text": [
      "Number of duplicate rows: 74\n",
      "Duplicate rows:\n",
      "     destination passanger weather  temperature  time                 coupon  \\\n",
      "4192        Work     Alone   Sunny           80   7AM  Carry out & Take away   \n",
      "4236        Work     Alone   Sunny           80   7AM  Carry out & Take away   \n",
      "4280        Work     Alone   Sunny           80   7AM  Carry out & Take away   \n",
      "4324        Work     Alone   Sunny           80   7AM  Carry out & Take away   \n",
      "4409        Work     Alone   Sunny           80   7AM  Carry out & Take away   \n",
      "...          ...       ...     ...          ...   ...                    ...   \n",
      "8511        Home     Alone   Sunny           80   6PM                    Bar   \n",
      "8512        Home   Partner   Sunny           30  10PM  Carry out & Take away   \n",
      "8513        Work     Alone   Rainy           55   7AM        Restaurant(<20)   \n",
      "8515        Work     Alone   Snowy           30   7AM      Restaurant(20-50)   \n",
      "8516        Work     Alone   Sunny           80   7AM        Restaurant(<20)   \n",
      "\n",
      "     expiration  gender age    maritalStatus  ...  CoffeeHouse CarryAway  \\\n",
      "4192         1d    Male  26           Single  ...        never       1~3   \n",
      "4236         1d    Male  26           Single  ...          gt8       gt8   \n",
      "4280         1d  Female  26           Single  ...        never       4~8   \n",
      "4324         1d  Female  46           Single  ...        never       4~8   \n",
      "4409         1d  Female  21           Single  ...        never     less1   \n",
      "...         ...     ...  ..              ...  ...          ...       ...   \n",
      "8511         2h    Male  46  Married partner  ...          1~3       1~3   \n",
      "8512         2h    Male  46  Married partner  ...          1~3       1~3   \n",
      "8513         2h    Male  46  Married partner  ...          1~3       1~3   \n",
      "8515         1d    Male  46  Married partner  ...          1~3       1~3   \n",
      "8516         1d    Male  46  Married partner  ...          1~3       1~3   \n",
      "\n",
      "     RestaurantLessThan20 Restaurant20To50 toCoupon_GEQ5min toCoupon_GEQ15min  \\\n",
      "4192                less1            less1                1                 1   \n",
      "4236                  4~8            less1                1                 1   \n",
      "4280                  1~3            less1                1                 1   \n",
      "4324                  1~3              1~3                1                 1   \n",
      "4409                  1~3            never                1                 1   \n",
      "...                   ...              ...              ...               ...   \n",
      "8511                less1              1~3                1                 0   \n",
      "8512                less1              1~3                1                 1   \n",
      "8513                less1              1~3                1                 1   \n",
      "8515                less1              1~3                1                 1   \n",
      "8516                less1              1~3                1                 0   \n",
      "\n",
      "     toCoupon_GEQ25min direction_same direction_opp  Y  \n",
      "4192                 1              0             1  1  \n",
      "4236                 1              0             1  1  \n",
      "4280                 1              0             1  1  \n",
      "4324                 1              0             1  1  \n",
      "4409                 1              0             1  0  \n",
      "...                ...            ...           ... ..  \n",
      "8511                 0              1             0  1  \n",
      "8512                 0              0             1  1  \n",
      "8513                 1              0             1  0  \n",
      "8515                 1              0             1  0  \n",
      "8516                 0              1             0  1  \n",
      "\n",
      "[74 rows x 26 columns]\n"
     ]
    }
   ],
   "execution_count": 35
  },
  {
   "cell_type": "markdown",
   "metadata": {
    "id": "bSdVSpYB_qRH"
   },
   "source": [
    "3. Decide what to do about your missing data -- drop, replace, other..."
   ]
  },
  {
   "cell_type": "code",
   "metadata": {
    "id": "tyvoAC5F_qRI",
    "ExecuteTime": {
     "end_time": "2025-05-14T06:08:56.270976Z",
     "start_time": "2025-05-14T06:08:56.254253Z"
    }
   },
   "source": [
    "# Remove duplicate rows\n",
    "data_cleaned = data.drop_duplicates()\n",
    "\n",
    "# Display the number of rows after removing duplicates\n",
    "print(f\"Number of rows after removing duplicates: {data_cleaned.shape[0]}\")"
   ],
   "outputs": [
    {
     "name": "stdout",
     "output_type": "stream",
     "text": [
      "Number of rows after removing duplicates: 12610\n"
     ]
    }
   ],
   "execution_count": 36
  },
  {
   "metadata": {
    "ExecuteTime": {
     "end_time": "2025-05-14T06:08:56.393177Z",
     "start_time": "2025-05-14T06:08:56.378064Z"
    }
   },
   "cell_type": "code",
   "source": [
    "# Verify that no duplicate rows remain\n",
    "remaining_duplicates = data_cleaned.duplicated().sum()\n",
    "\n",
    "print(f\"Number of remaining duplicate rows: {remaining_duplicates}\")"
   ],
   "outputs": [
    {
     "name": "stdout",
     "output_type": "stream",
     "text": [
      "Number of remaining duplicate rows: 0\n"
     ]
    }
   ],
   "execution_count": 37
  },
  {
   "metadata": {
    "ExecuteTime": {
     "end_time": "2025-05-14T06:16:07.335988Z",
     "start_time": "2025-05-14T06:16:07.262359Z"
    }
   },
   "cell_type": "code",
   "source": [
    "# Save the cleaned dataset to a new file\n",
    "print(data_cleaned.head())\n",
    "\n",
    "save_path = '../data/cleaned_coupon_dataset.csv'\n",
    "\n",
    "# Save the cleaned dataset to a new file\n",
    "data_cleaned.to_csv(save_path, index=False)\n"
   ],
   "outputs": [
    {
     "name": "stdout",
     "output_type": "stream",
     "text": [
      "       destination  passanger weather  temperature  time  \\\n",
      "0  No Urgent Place      Alone   Sunny           55   2PM   \n",
      "1  No Urgent Place  Friend(s)   Sunny           80  10AM   \n",
      "2  No Urgent Place  Friend(s)   Sunny           80  10AM   \n",
      "3  No Urgent Place  Friend(s)   Sunny           80   2PM   \n",
      "4  No Urgent Place  Friend(s)   Sunny           80   2PM   \n",
      "\n",
      "                  coupon expiration  gender age      maritalStatus  ...  \\\n",
      "0        Restaurant(<20)         1d  Female  21  Unmarried partner  ...   \n",
      "1           Coffee House         2h  Female  21  Unmarried partner  ...   \n",
      "2  Carry out & Take away         2h  Female  21  Unmarried partner  ...   \n",
      "3           Coffee House         2h  Female  21  Unmarried partner  ...   \n",
      "4           Coffee House         1d  Female  21  Unmarried partner  ...   \n",
      "\n",
      "   CoffeeHouse CarryAway RestaurantLessThan20 Restaurant20To50  \\\n",
      "0        never       NaN                  4~8              1~3   \n",
      "1        never       NaN                  4~8              1~3   \n",
      "2        never       NaN                  4~8              1~3   \n",
      "3        never       NaN                  4~8              1~3   \n",
      "4        never       NaN                  4~8              1~3   \n",
      "\n",
      "  toCoupon_GEQ5min toCoupon_GEQ15min toCoupon_GEQ25min direction_same  \\\n",
      "0                1                 0                 0              0   \n",
      "1                1                 0                 0              0   \n",
      "2                1                 1                 0              0   \n",
      "3                1                 1                 0              0   \n",
      "4                1                 1                 0              0   \n",
      "\n",
      "  direction_opp  Y  \n",
      "0             1  1  \n",
      "1             1  0  \n",
      "2             1  1  \n",
      "3             1  0  \n",
      "4             1  0  \n",
      "\n",
      "[5 rows x 26 columns]\n"
     ]
    }
   ],
   "execution_count": 42
  },
  {
   "cell_type": "markdown",
   "metadata": {
    "id": "YE6oJbXd_qRI"
   },
   "source": [
    "4. What proportion of the total observations chose to accept the coupon?\n",
    "\n"
   ]
  },
  {
   "cell_type": "code",
   "metadata": {
    "id": "86GGqBTv_qRI",
    "ExecuteTime": {
     "end_time": "2025-05-14T06:08:56.541021Z",
     "start_time": "2025-05-14T06:08:56.538309Z"
    }
   },
   "source": [],
   "outputs": [],
   "execution_count": null
  },
  {
   "cell_type": "markdown",
   "metadata": {
    "id": "vflz0DoE_qRI"
   },
   "source": [
    "5. Use a bar plot to visualize the `coupon` column."
   ]
  },
  {
   "cell_type": "code",
   "metadata": {
    "id": "dHFh3E45_qRI",
    "ExecuteTime": {
     "end_time": "2025-05-14T06:08:56.559600Z",
     "start_time": "2025-05-14T06:08:56.556408Z"
    }
   },
   "source": [],
   "outputs": [],
   "execution_count": null
  },
  {
   "cell_type": "markdown",
   "metadata": {
    "id": "Qw4lCyx2_qRI"
   },
   "source": [
    "6. Use a histogram to visualize the temperature column."
   ]
  },
  {
   "cell_type": "code",
   "metadata": {
    "id": "Yg9Anv71_qRI",
    "ExecuteTime": {
     "end_time": "2025-05-14T06:08:56.584100Z",
     "start_time": "2025-05-14T06:08:56.581513Z"
    }
   },
   "source": [],
   "outputs": [],
   "execution_count": null
  },
  {
   "cell_type": "code",
   "metadata": {
    "id": "zLtOaJQk_qRI",
    "ExecuteTime": {
     "end_time": "2025-05-14T06:08:56.628954Z",
     "start_time": "2025-05-14T06:08:56.626518Z"
    }
   },
   "source": [],
   "outputs": [],
   "execution_count": null
  },
  {
   "cell_type": "code",
   "metadata": {
    "id": "7GBHZKBp_qRJ",
    "ExecuteTime": {
     "end_time": "2025-05-14T06:08:56.665279Z",
     "start_time": "2025-05-14T06:08:56.661579Z"
    }
   },
   "source": [],
   "outputs": [],
   "execution_count": null
  },
  {
   "cell_type": "code",
   "metadata": {
    "id": "Y5nBUA-j_qRJ",
    "ExecuteTime": {
     "end_time": "2025-05-14T06:08:56.685957Z",
     "start_time": "2025-05-14T06:08:56.683036Z"
    }
   },
   "source": [],
   "outputs": [],
   "execution_count": null
  },
  {
   "cell_type": "code",
   "metadata": {
    "id": "ShcUC-Vm_qRJ",
    "ExecuteTime": {
     "end_time": "2025-05-14T06:08:56.725019Z",
     "start_time": "2025-05-14T06:08:56.722611Z"
    }
   },
   "source": [],
   "outputs": [],
   "execution_count": null
  },
  {
   "cell_type": "markdown",
   "metadata": {
    "id": "FupfgeJk_qRJ"
   },
   "source": [
    "**Investigating the Bar Coupons**\n",
    "\n",
    "Now, we will lead you through an exploration of just the bar related coupons.  \n",
    "\n",
    "1. Create a new `DataFrame` that contains just the bar coupons.\n"
   ]
  },
  {
   "cell_type": "code",
   "metadata": {
    "id": "tMBlWuGq_qRJ",
    "ExecuteTime": {
     "end_time": "2025-05-14T06:08:56.743696Z",
     "start_time": "2025-05-14T06:08:56.740321Z"
    }
   },
   "source": [],
   "outputs": [],
   "execution_count": null
  },
  {
   "cell_type": "markdown",
   "metadata": {
    "id": "8ue6uCqf_qRJ"
   },
   "source": [
    "2. What proportion of bar coupons were accepted?\n"
   ]
  },
  {
   "cell_type": "code",
   "metadata": {
    "id": "hSdte8Mi_qRK",
    "ExecuteTime": {
     "end_time": "2025-05-14T06:08:56.770232Z",
     "start_time": "2025-05-14T06:08:56.766953Z"
    }
   },
   "source": [],
   "outputs": [],
   "execution_count": null
  },
  {
   "cell_type": "markdown",
   "metadata": {
    "id": "85nA_iEi_qRK"
   },
   "source": [
    "3. Compare the acceptance rate between those who went to a bar 3 or fewer times a month to those who went more.\n"
   ]
  },
  {
   "cell_type": "code",
   "metadata": {
    "id": "LBOrN-XM_qRK",
    "ExecuteTime": {
     "end_time": "2025-05-14T06:08:56.800209Z",
     "start_time": "2025-05-14T06:08:56.796790Z"
    }
   },
   "source": [],
   "outputs": [],
   "execution_count": null
  },
  {
   "cell_type": "markdown",
   "metadata": {
    "id": "RBgcQwH4_qRK"
   },
   "source": [
    "4. Compare the acceptance rate between drivers who go to a bar more than once a month and are over the age of 25 to the all others.  Is there a difference?\n"
   ]
  },
  {
   "cell_type": "code",
   "metadata": {
    "id": "bf28bbeX_qRK",
    "ExecuteTime": {
     "end_time": "2025-05-14T06:08:56.820800Z",
     "start_time": "2025-05-14T06:08:56.818285Z"
    }
   },
   "source": [],
   "outputs": [],
   "execution_count": null
  },
  {
   "cell_type": "markdown",
   "metadata": {
    "id": "S4RKT4PJ_qRK"
   },
   "source": [
    "5. Use the same process to compare the acceptance rate between drivers who go to bars more than once a month and had passengers that were not a kid and had occupations other than farming, fishing, or forestry.\n"
   ]
  },
  {
   "cell_type": "code",
   "metadata": {
    "id": "sENaI2Tg_qRK",
    "ExecuteTime": {
     "end_time": "2025-05-14T06:08:56.856983Z",
     "start_time": "2025-05-14T06:08:56.854042Z"
    }
   },
   "source": [],
   "outputs": [],
   "execution_count": null
  },
  {
   "cell_type": "markdown",
   "metadata": {
    "id": "n2LIUTil_qRK"
   },
   "source": [
    "6. Compare the acceptance rates between those drivers who:\n",
    "\n",
    "- go to bars more than once a month, had passengers that were not a kid, and were not widowed *OR*\n",
    "- go to bars more than once a month and are under the age of 30 *OR*\n",
    "- go to cheap restaurants more than 4 times a month and income is less than 50K.\n",
    "\n"
   ]
  },
  {
   "cell_type": "code",
   "metadata": {
    "id": "aK_wEzx7_qRK",
    "ExecuteTime": {
     "end_time": "2025-05-14T06:08:56.890274Z",
     "start_time": "2025-05-14T06:08:56.886931Z"
    }
   },
   "source": [],
   "outputs": [],
   "execution_count": null
  },
  {
   "cell_type": "markdown",
   "metadata": {
    "id": "v3fL3QkO_qRK"
   },
   "source": [
    "7.  Based on these observations, what do you hypothesize about drivers who accepted the bar coupons?"
   ]
  },
  {
   "cell_type": "code",
   "metadata": {
    "id": "Y48naDFh_qRL",
    "ExecuteTime": {
     "end_time": "2025-05-14T06:08:56.927113Z",
     "start_time": "2025-05-14T06:08:56.924370Z"
    }
   },
   "source": [],
   "outputs": [],
   "execution_count": null
  },
  {
   "cell_type": "markdown",
   "metadata": {
    "id": "r4Hu1zOb_qRL"
   },
   "source": [
    "### Independent Investigation\n",
    "\n",
    "Using the bar coupon example as motivation, you are to explore one of the other coupon groups and try to determine the characteristics of passengers who accept the coupons.  "
   ]
  },
  {
   "cell_type": "code",
   "metadata": {
    "id": "0c71cQhu_qRL",
    "ExecuteTime": {
     "end_time": "2025-05-14T06:08:56.961760Z",
     "start_time": "2025-05-14T06:08:56.958687Z"
    }
   },
   "source": [],
   "outputs": [],
   "execution_count": null
  },
  {
   "cell_type": "code",
   "metadata": {
    "id": "QEsBkvIN_qRL",
    "ExecuteTime": {
     "end_time": "2025-05-14T06:08:56.996510Z",
     "start_time": "2025-05-14T06:08:56.993523Z"
    }
   },
   "source": [],
   "outputs": [],
   "execution_count": null
  },
  {
   "cell_type": "code",
   "metadata": {
    "id": "fTC2WGE3_qRL",
    "ExecuteTime": {
     "end_time": "2025-05-14T06:08:57.029143Z",
     "start_time": "2025-05-14T06:08:57.026479Z"
    }
   },
   "source": [],
   "outputs": [],
   "execution_count": null
  },
  {
   "cell_type": "code",
   "metadata": {
    "id": "RrqUWn7d_qRL",
    "ExecuteTime": {
     "end_time": "2025-05-14T06:08:57.063302Z",
     "start_time": "2025-05-14T06:08:57.060719Z"
    }
   },
   "source": [],
   "outputs": [],
   "execution_count": null
  },
  {
   "cell_type": "code",
   "metadata": {
    "id": "_oykf8YP_qRL",
    "ExecuteTime": {
     "end_time": "2025-05-14T06:08:57.097222Z",
     "start_time": "2025-05-14T06:08:57.093993Z"
    }
   },
   "source": [],
   "outputs": [],
   "execution_count": null
  }
 ],
 "metadata": {
  "kernelspec": {
   "display_name": "Python 3 (ipykernel)",
   "language": "python",
   "name": "python3"
  },
  "language_info": {
   "codemirror_mode": {
    "name": "ipython",
    "version": 3
   },
   "file_extension": ".py",
   "mimetype": "text/x-python",
   "name": "python",
   "nbconvert_exporter": "python",
   "pygments_lexer": "ipython3",
   "version": "3.12.1"
  },
  "colab": {
   "provenance": []
  }
 },
 "nbformat": 4,
 "nbformat_minor": 0
}
