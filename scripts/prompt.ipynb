{
 "cells": [
  {
   "cell_type": "markdown",
   "metadata": {
    "id": "CcUT6Fon_qRE"
   },
   "source": [
    "### Required Assignment 5.1: Will the Customer Accept the Coupon?\n",
    "\n",
    "**Context**\n",
    "\n",
    "Imagine driving through town and a coupon is delivered to your cell phone for a restaurant near where you are driving. Would you accept that coupon and take a short detour to the restaurant? Would you accept the coupon but use it on a subsequent trip? Would you ignore the coupon entirely? What if the coupon was for a bar instead of a restaurant? What about a coffee house? Would you accept a bar coupon with a minor passenger in the car? What about if it was just you and your partner in the car? Would weather impact the rate of acceptance? What about the time of day?\n",
    "\n",
    "Obviously, proximity to the business is a factor on whether the coupon is delivered to the driver or not, but what are the factors that determine whether a driver accepts the coupon once it is delivered to them? How would you determine whether a driver is likely to accept a coupon?\n",
    "\n",
    "**Overview**\n",
    "\n",
    "The goal of this project is to use what you know about visualizations and probability distributions to distinguish between customers who accepted a driving coupon versus those that did not.\n",
    "\n",
    "**Data**\n",
    "\n",
    "This data comes to us from the UCI Machine Learning repository and was collected via a survey on Amazon Mechanical Turk. The survey describes different driving scenarios including the destination, current time, weather, passenger, etc., and then ask the person whether he will accept the coupon if he is the driver. Answers that the user will drive there ‘right away’ or ‘later before the coupon expires’ are labeled as ‘Y = 1’ and answers ‘no, I do not want the coupon’ are labeled as ‘Y = 0’.  There are five different types of coupons -- less expensive restaurants (under \\$20), coffee houses, carry out & take away, bar, and more expensive restaurants (\\$20 - $50)."
   ]
  },
  {
   "cell_type": "markdown",
   "metadata": {
    "id": "1wORvMBJ_qRF"
   },
   "source": [
    "**Deliverables**\n",
    "\n",
    "Your final product should be a brief report that highlights the differences between customers who did and did not accept the coupons.  To explore the data you will utilize your knowledge of plotting, statistical summaries, and visualization using Python. You will publish your findings in a public facing github repository as your first portfolio piece.\n",
    "\n",
    "\n",
    "\n"
   ]
  },
  {
   "cell_type": "markdown",
   "metadata": {
    "id": "pG6_Ym6q_qRG"
   },
   "source": [
    "### Data Description\n",
    "Keep in mind that these values mentioned below are average values.\n",
    "\n",
    "The attributes of this data set include:\n",
    "1. User attributes\n",
    "    -  Gender: male, female\n",
    "    -  Age: below 21, 21 to 25, 26 to 30, etc.\n",
    "    -  Marital Status: single, married partner, unmarried partner, or widowed\n",
    "    -  Number of children: 0, 1, or more than 1\n",
    "    -  Education: high school, bachelors degree, associates degree, or graduate degree\n",
    "    -  Occupation: architecture & engineering, business & financial, etc.\n",
    "    -  Annual income: less than \\\\$12500, \\\\$12500 - \\\\$24999, \\\\$25000 - \\\\$37499, etc.\n",
    "    -  Number of times that he/she goes to a bar: 0, less than 1, 1 to 3, 4 to 8 or greater than 8\n",
    "    -  Number of times that he/she buys takeaway food: 0, less than 1, 1 to 3, 4 to 8 or greater\n",
    "    than 8\n",
    "    -  Number of times that he/she goes to a coffee house: 0, less than 1, 1 to 3, 4 to 8 or\n",
    "    greater than 8\n",
    "    -  Number of times that he/she eats at a restaurant with average expense less than \\\\$20 per\n",
    "    person: 0, less than 1, 1 to 3, 4 to 8 or greater than 8\n",
    "    -  Number of times that he/she goes to a bar: 0, less than 1, 1 to 3, 4 to 8 or greater than 8\n",
    "    \n",
    "\n",
    "2. Contextual attributes\n",
    "    - Driving destination: home, work, or no urgent destination\n",
    "    - Location of user, coupon and destination: we provide a map to show the geographical\n",
    "    location of the user, destination, and the venue, and we mark the distance between each\n",
    "    two places with time of driving. The user can see whether the venue is in the same\n",
    "    direction as the destination.\n",
    "    - Weather: sunny, rainy, or snowy\n",
    "    - Temperature: 30F, 55F, or 80F\n",
    "    - Time: 10AM, 2PM, or 6PM\n",
    "    - Passenger: alone, partner, kid(s), or friend(s)\n",
    "\n",
    "\n",
    "3. Coupon attributes\n",
    "    - time before it expires: 2 hours or one day"
   ]
  },
  {
   "cell_type": "code",
   "metadata": {
    "id": "dzNoP3o__qRG",
    "ExecuteTime": {
     "end_time": "2025-05-17T20:10:51.362129Z",
     "start_time": "2025-05-17T20:10:51.358310Z"
    }
   },
   "source": [
    "import matplotlib.pyplot as plt\n",
    "import seaborn as sns\n",
    "import pandas as pd\n",
    "import numpy as np"
   ],
   "outputs": [],
   "execution_count": 240
  },
  {
   "cell_type": "markdown",
   "metadata": {
    "id": "Ct8pI1uE_qRG"
   },
   "source": [
    "### Problems\n",
    "\n",
    "Use the prompts below to get started with your data analysis.  \n",
    "\n",
    "1. Read in the `coupons.csv` file.\n",
    "\n",
    "\n"
   ]
  },
  {
   "cell_type": "code",
   "metadata": {
    "id": "X0vbffYg_qRH",
    "ExecuteTime": {
     "end_time": "2025-05-17T20:10:51.435527Z",
     "start_time": "2025-05-17T20:10:51.406048Z"
    }
   },
   "source": "data = pd.read_csv('../data/coupons.csv')",
   "outputs": [],
   "execution_count": 241
  },
  {
   "cell_type": "code",
   "metadata": {
    "id": "TXofQ_DF_qRH",
    "outputId": "2fc96a2c-1112-4b54-f24f-dbb9bc88abfb",
    "ExecuteTime": {
     "end_time": "2025-05-17T20:10:51.453381Z",
     "start_time": "2025-05-17T20:10:51.442535Z"
    }
   },
   "source": [
    "data.head()"
   ],
   "outputs": [
    {
     "data": {
      "text/plain": [
       "       destination  passanger weather  temperature  time  \\\n",
       "0  No Urgent Place      Alone   Sunny           55   2PM   \n",
       "1  No Urgent Place  Friend(s)   Sunny           80  10AM   \n",
       "2  No Urgent Place  Friend(s)   Sunny           80  10AM   \n",
       "3  No Urgent Place  Friend(s)   Sunny           80   2PM   \n",
       "4  No Urgent Place  Friend(s)   Sunny           80   2PM   \n",
       "\n",
       "                  coupon expiration  gender age      maritalStatus  ...  \\\n",
       "0        Restaurant(<20)         1d  Female  21  Unmarried partner  ...   \n",
       "1           Coffee House         2h  Female  21  Unmarried partner  ...   \n",
       "2  Carry out & Take away         2h  Female  21  Unmarried partner  ...   \n",
       "3           Coffee House         2h  Female  21  Unmarried partner  ...   \n",
       "4           Coffee House         1d  Female  21  Unmarried partner  ...   \n",
       "\n",
       "   CoffeeHouse CarryAway RestaurantLessThan20 Restaurant20To50  \\\n",
       "0        never       NaN                  4~8              1~3   \n",
       "1        never       NaN                  4~8              1~3   \n",
       "2        never       NaN                  4~8              1~3   \n",
       "3        never       NaN                  4~8              1~3   \n",
       "4        never       NaN                  4~8              1~3   \n",
       "\n",
       "  toCoupon_GEQ5min toCoupon_GEQ15min toCoupon_GEQ25min direction_same  \\\n",
       "0                1                 0                 0              0   \n",
       "1                1                 0                 0              0   \n",
       "2                1                 1                 0              0   \n",
       "3                1                 1                 0              0   \n",
       "4                1                 1                 0              0   \n",
       "\n",
       "  direction_opp  Y  \n",
       "0             1  1  \n",
       "1             1  0  \n",
       "2             1  1  \n",
       "3             1  0  \n",
       "4             1  0  \n",
       "\n",
       "[5 rows x 26 columns]"
      ],
      "text/html": [
       "<div>\n",
       "<style scoped>\n",
       "    .dataframe tbody tr th:only-of-type {\n",
       "        vertical-align: middle;\n",
       "    }\n",
       "\n",
       "    .dataframe tbody tr th {\n",
       "        vertical-align: top;\n",
       "    }\n",
       "\n",
       "    .dataframe thead th {\n",
       "        text-align: right;\n",
       "    }\n",
       "</style>\n",
       "<table border=\"1\" class=\"dataframe\">\n",
       "  <thead>\n",
       "    <tr style=\"text-align: right;\">\n",
       "      <th></th>\n",
       "      <th>destination</th>\n",
       "      <th>passanger</th>\n",
       "      <th>weather</th>\n",
       "      <th>temperature</th>\n",
       "      <th>time</th>\n",
       "      <th>coupon</th>\n",
       "      <th>expiration</th>\n",
       "      <th>gender</th>\n",
       "      <th>age</th>\n",
       "      <th>maritalStatus</th>\n",
       "      <th>...</th>\n",
       "      <th>CoffeeHouse</th>\n",
       "      <th>CarryAway</th>\n",
       "      <th>RestaurantLessThan20</th>\n",
       "      <th>Restaurant20To50</th>\n",
       "      <th>toCoupon_GEQ5min</th>\n",
       "      <th>toCoupon_GEQ15min</th>\n",
       "      <th>toCoupon_GEQ25min</th>\n",
       "      <th>direction_same</th>\n",
       "      <th>direction_opp</th>\n",
       "      <th>Y</th>\n",
       "    </tr>\n",
       "  </thead>\n",
       "  <tbody>\n",
       "    <tr>\n",
       "      <th>0</th>\n",
       "      <td>No Urgent Place</td>\n",
       "      <td>Alone</td>\n",
       "      <td>Sunny</td>\n",
       "      <td>55</td>\n",
       "      <td>2PM</td>\n",
       "      <td>Restaurant(&lt;20)</td>\n",
       "      <td>1d</td>\n",
       "      <td>Female</td>\n",
       "      <td>21</td>\n",
       "      <td>Unmarried partner</td>\n",
       "      <td>...</td>\n",
       "      <td>never</td>\n",
       "      <td>NaN</td>\n",
       "      <td>4~8</td>\n",
       "      <td>1~3</td>\n",
       "      <td>1</td>\n",
       "      <td>0</td>\n",
       "      <td>0</td>\n",
       "      <td>0</td>\n",
       "      <td>1</td>\n",
       "      <td>1</td>\n",
       "    </tr>\n",
       "    <tr>\n",
       "      <th>1</th>\n",
       "      <td>No Urgent Place</td>\n",
       "      <td>Friend(s)</td>\n",
       "      <td>Sunny</td>\n",
       "      <td>80</td>\n",
       "      <td>10AM</td>\n",
       "      <td>Coffee House</td>\n",
       "      <td>2h</td>\n",
       "      <td>Female</td>\n",
       "      <td>21</td>\n",
       "      <td>Unmarried partner</td>\n",
       "      <td>...</td>\n",
       "      <td>never</td>\n",
       "      <td>NaN</td>\n",
       "      <td>4~8</td>\n",
       "      <td>1~3</td>\n",
       "      <td>1</td>\n",
       "      <td>0</td>\n",
       "      <td>0</td>\n",
       "      <td>0</td>\n",
       "      <td>1</td>\n",
       "      <td>0</td>\n",
       "    </tr>\n",
       "    <tr>\n",
       "      <th>2</th>\n",
       "      <td>No Urgent Place</td>\n",
       "      <td>Friend(s)</td>\n",
       "      <td>Sunny</td>\n",
       "      <td>80</td>\n",
       "      <td>10AM</td>\n",
       "      <td>Carry out &amp; Take away</td>\n",
       "      <td>2h</td>\n",
       "      <td>Female</td>\n",
       "      <td>21</td>\n",
       "      <td>Unmarried partner</td>\n",
       "      <td>...</td>\n",
       "      <td>never</td>\n",
       "      <td>NaN</td>\n",
       "      <td>4~8</td>\n",
       "      <td>1~3</td>\n",
       "      <td>1</td>\n",
       "      <td>1</td>\n",
       "      <td>0</td>\n",
       "      <td>0</td>\n",
       "      <td>1</td>\n",
       "      <td>1</td>\n",
       "    </tr>\n",
       "    <tr>\n",
       "      <th>3</th>\n",
       "      <td>No Urgent Place</td>\n",
       "      <td>Friend(s)</td>\n",
       "      <td>Sunny</td>\n",
       "      <td>80</td>\n",
       "      <td>2PM</td>\n",
       "      <td>Coffee House</td>\n",
       "      <td>2h</td>\n",
       "      <td>Female</td>\n",
       "      <td>21</td>\n",
       "      <td>Unmarried partner</td>\n",
       "      <td>...</td>\n",
       "      <td>never</td>\n",
       "      <td>NaN</td>\n",
       "      <td>4~8</td>\n",
       "      <td>1~3</td>\n",
       "      <td>1</td>\n",
       "      <td>1</td>\n",
       "      <td>0</td>\n",
       "      <td>0</td>\n",
       "      <td>1</td>\n",
       "      <td>0</td>\n",
       "    </tr>\n",
       "    <tr>\n",
       "      <th>4</th>\n",
       "      <td>No Urgent Place</td>\n",
       "      <td>Friend(s)</td>\n",
       "      <td>Sunny</td>\n",
       "      <td>80</td>\n",
       "      <td>2PM</td>\n",
       "      <td>Coffee House</td>\n",
       "      <td>1d</td>\n",
       "      <td>Female</td>\n",
       "      <td>21</td>\n",
       "      <td>Unmarried partner</td>\n",
       "      <td>...</td>\n",
       "      <td>never</td>\n",
       "      <td>NaN</td>\n",
       "      <td>4~8</td>\n",
       "      <td>1~3</td>\n",
       "      <td>1</td>\n",
       "      <td>1</td>\n",
       "      <td>0</td>\n",
       "      <td>0</td>\n",
       "      <td>1</td>\n",
       "      <td>0</td>\n",
       "    </tr>\n",
       "  </tbody>\n",
       "</table>\n",
       "<p>5 rows × 26 columns</p>\n",
       "</div>"
      ]
     },
     "execution_count": 242,
     "metadata": {},
     "output_type": "execute_result"
    }
   ],
   "execution_count": 242
  },
  {
   "cell_type": "markdown",
   "metadata": {
    "id": "GcDs78ZH_qRH"
   },
   "source": [
    "2. Investigate the dataset for missing or problematic data."
   ]
  },
  {
   "cell_type": "code",
   "metadata": {
    "id": "6CwL6oWj_qRH",
    "ExecuteTime": {
     "end_time": "2025-05-17T20:10:51.529457Z",
     "start_time": "2025-05-17T20:10:51.500884Z"
    }
   },
   "source": [
    "# Duplicate rows check\n",
    "# Check for duplicate rows\n",
    "duplicates = data.duplicated().sum()\n",
    "\n",
    "print(f\"Number of duplicate rows: {duplicates}\")\n",
    "\n",
    "# Display duplicate rows if any\n",
    "if duplicates > 0:\n",
    "    print(\"Duplicate rows:\")\n",
    "    print(data[data.duplicated()])\n",
    "else:\n",
    "    print(\"No duplicate rows found.\")"
   ],
   "outputs": [
    {
     "name": "stdout",
     "output_type": "stream",
     "text": [
      "Number of duplicate rows: 74\n",
      "Duplicate rows:\n",
      "     destination passanger weather  temperature  time                 coupon  \\\n",
      "4192        Work     Alone   Sunny           80   7AM  Carry out & Take away   \n",
      "4236        Work     Alone   Sunny           80   7AM  Carry out & Take away   \n",
      "4280        Work     Alone   Sunny           80   7AM  Carry out & Take away   \n",
      "4324        Work     Alone   Sunny           80   7AM  Carry out & Take away   \n",
      "4409        Work     Alone   Sunny           80   7AM  Carry out & Take away   \n",
      "...          ...       ...     ...          ...   ...                    ...   \n",
      "8511        Home     Alone   Sunny           80   6PM                    Bar   \n",
      "8512        Home   Partner   Sunny           30  10PM  Carry out & Take away   \n",
      "8513        Work     Alone   Rainy           55   7AM        Restaurant(<20)   \n",
      "8515        Work     Alone   Snowy           30   7AM      Restaurant(20-50)   \n",
      "8516        Work     Alone   Sunny           80   7AM        Restaurant(<20)   \n",
      "\n",
      "     expiration  gender age    maritalStatus  ...  CoffeeHouse CarryAway  \\\n",
      "4192         1d    Male  26           Single  ...        never       1~3   \n",
      "4236         1d    Male  26           Single  ...          gt8       gt8   \n",
      "4280         1d  Female  26           Single  ...        never       4~8   \n",
      "4324         1d  Female  46           Single  ...        never       4~8   \n",
      "4409         1d  Female  21           Single  ...        never     less1   \n",
      "...         ...     ...  ..              ...  ...          ...       ...   \n",
      "8511         2h    Male  46  Married partner  ...          1~3       1~3   \n",
      "8512         2h    Male  46  Married partner  ...          1~3       1~3   \n",
      "8513         2h    Male  46  Married partner  ...          1~3       1~3   \n",
      "8515         1d    Male  46  Married partner  ...          1~3       1~3   \n",
      "8516         1d    Male  46  Married partner  ...          1~3       1~3   \n",
      "\n",
      "     RestaurantLessThan20 Restaurant20To50 toCoupon_GEQ5min toCoupon_GEQ15min  \\\n",
      "4192                less1            less1                1                 1   \n",
      "4236                  4~8            less1                1                 1   \n",
      "4280                  1~3            less1                1                 1   \n",
      "4324                  1~3              1~3                1                 1   \n",
      "4409                  1~3            never                1                 1   \n",
      "...                   ...              ...              ...               ...   \n",
      "8511                less1              1~3                1                 0   \n",
      "8512                less1              1~3                1                 1   \n",
      "8513                less1              1~3                1                 1   \n",
      "8515                less1              1~3                1                 1   \n",
      "8516                less1              1~3                1                 0   \n",
      "\n",
      "     toCoupon_GEQ25min direction_same direction_opp  Y  \n",
      "4192                 1              0             1  1  \n",
      "4236                 1              0             1  1  \n",
      "4280                 1              0             1  1  \n",
      "4324                 1              0             1  1  \n",
      "4409                 1              0             1  0  \n",
      "...                ...            ...           ... ..  \n",
      "8511                 0              1             0  1  \n",
      "8512                 0              0             1  1  \n",
      "8513                 1              0             1  0  \n",
      "8515                 1              0             1  0  \n",
      "8516                 0              1             0  1  \n",
      "\n",
      "[74 rows x 26 columns]\n"
     ]
    }
   ],
   "execution_count": 243
  },
  {
   "metadata": {
    "ExecuteTime": {
     "end_time": "2025-05-17T20:10:51.619370Z",
     "start_time": "2025-05-17T20:10:51.609664Z"
    }
   },
   "cell_type": "code",
   "source": [
    "# Missing values check\n",
    "missing_values = data.isnull().sum()\n",
    "print(missing_values[missing_values > 0])"
   ],
   "outputs": [
    {
     "name": "stdout",
     "output_type": "stream",
     "text": [
      "car                     12576\n",
      "Bar                       107\n",
      "CoffeeHouse               217\n",
      "CarryAway                 151\n",
      "RestaurantLessThan20      130\n",
      "Restaurant20To50          189\n",
      "dtype: int64\n"
     ]
    }
   ],
   "execution_count": 244
  },
  {
   "cell_type": "markdown",
   "metadata": {
    "id": "bSdVSpYB_qRH"
   },
   "source": [
    "3. Decide what to do about your missing data -- drop, replace, other..."
   ]
  },
  {
   "cell_type": "code",
   "metadata": {
    "id": "tyvoAC5F_qRI",
    "ExecuteTime": {
     "end_time": "2025-05-17T20:10:51.761102Z",
     "start_time": "2025-05-17T20:10:51.734377Z"
    }
   },
   "source": [
    "# Remove duplicates records from the dataset\n",
    "data = data.drop_duplicates()\n",
    "\n",
    "# Duplicate rows check\n",
    "# Check for duplicate rows\n",
    "duplicates = data.duplicated().sum()\n",
    "\n",
    "print(f\"Number of duplicate rows: {duplicates}\")\n",
    "\n",
    "# Display duplicate rows if any\n",
    "if duplicates > 0:\n",
    "    print(\"Duplicate rows:\")\n",
    "    print(data[data.duplicated()])\n",
    "else:\n",
    "    print(\"No duplicate rows found.\")\n"
   ],
   "outputs": [
    {
     "name": "stdout",
     "output_type": "stream",
     "text": [
      "Number of duplicate rows: 0\n",
      "No duplicate rows found.\n"
     ]
    }
   ],
   "execution_count": 245
  },
  {
   "metadata": {
    "ExecuteTime": {
     "end_time": "2025-05-17T20:10:51.936001Z",
     "start_time": "2025-05-17T20:10:51.871087Z"
    }
   },
   "cell_type": "code",
   "source": [
    "# save the non-duplicate data to a new csv file\n",
    "data.to_csv('../data/coupon_dataset_no_duplicates.csv', index=False)"
   ],
   "outputs": [],
   "execution_count": 246
  },
  {
   "metadata": {
    "ExecuteTime": {
     "end_time": "2025-05-17T20:10:51.976530Z",
     "start_time": "2025-05-17T20:10:51.956902Z"
    }
   },
   "cell_type": "code",
   "source": [
    "# Missing values check - string columns - will replace with 'unknown'\n",
    "# replace textual columns with null with 'UNKNOWN'\n",
    "text_data = data.select_dtypes(include=['object'])\n",
    "\n",
    "# Fill NaN values with 'UNKNOWN'\n",
    "text_data_cleaned = text_data.fillna('unknown')\n",
    "\n",
    "# Update the original DataFrame\n",
    "data[text_data_cleaned.columns] = text_data_cleaned\n"
   ],
   "outputs": [],
   "execution_count": 247
  },
  {
   "metadata": {
    "ExecuteTime": {
     "end_time": "2025-05-17T20:10:52.011463Z",
     "start_time": "2025-05-17T20:10:51.999949Z"
    }
   },
   "cell_type": "code",
   "source": [
    "# Missing values check\n",
    "missing_values = data.isnull().sum()\n",
    "print(missing_values[missing_values > 0])"
   ],
   "outputs": [
    {
     "name": "stdout",
     "output_type": "stream",
     "text": [
      "Series([], dtype: int64)\n"
     ]
    }
   ],
   "execution_count": 248
  },
  {
   "metadata": {
    "ExecuteTime": {
     "end_time": "2025-05-17T20:10:52.103830Z",
     "start_time": "2025-05-17T20:10:52.041865Z"
    }
   },
   "cell_type": "code",
   "source": [
    "# save non-duplicate and missing data to a new csv file\n",
    "data.to_csv('../data/coupon_dataset_no_duplicates_no_missing.csv', index=False)"
   ],
   "outputs": [],
   "execution_count": 249
  },
  {
   "metadata": {
    "ExecuteTime": {
     "end_time": "2025-05-17T20:17:42.740449Z",
     "start_time": "2025-05-17T20:17:42.725353Z"
    }
   },
   "cell_type": "code",
   "source": "data.info()\n",
   "outputs": [
    {
     "name": "stdout",
     "output_type": "stream",
     "text": [
      "<class 'pandas.core.frame.DataFrame'>\n",
      "Index: 12610 entries, 0 to 12683\n",
      "Data columns (total 26 columns):\n",
      " #   Column                Non-Null Count  Dtype \n",
      "---  ------                --------------  ----- \n",
      " 0   destination           12610 non-null  object\n",
      " 1   passanger             12610 non-null  object\n",
      " 2   weather               12610 non-null  object\n",
      " 3   temperature           12610 non-null  int64 \n",
      " 4   time                  12610 non-null  object\n",
      " 5   coupon                12610 non-null  object\n",
      " 6   expiration            12610 non-null  object\n",
      " 7   gender                12610 non-null  object\n",
      " 8   age                   12610 non-null  object\n",
      " 9   maritalStatus         12610 non-null  object\n",
      " 10  has_children          12610 non-null  int64 \n",
      " 11  education             12610 non-null  object\n",
      " 12  occupation            12610 non-null  object\n",
      " 13  income                12610 non-null  object\n",
      " 14  car                   12610 non-null  object\n",
      " 15  Bar                   12610 non-null  object\n",
      " 16  CoffeeHouse           12610 non-null  object\n",
      " 17  CarryAway             12610 non-null  object\n",
      " 18  RestaurantLessThan20  12610 non-null  object\n",
      " 19  Restaurant20To50      12610 non-null  object\n",
      " 20  toCoupon_GEQ5min      12610 non-null  int64 \n",
      " 21  toCoupon_GEQ15min     12610 non-null  int64 \n",
      " 22  toCoupon_GEQ25min     12610 non-null  int64 \n",
      " 23  direction_same        12610 non-null  int64 \n",
      " 24  direction_opp         12610 non-null  int64 \n",
      " 25  Y                     12610 non-null  int64 \n",
      "dtypes: int64(8), object(18)\n",
      "memory usage: 2.6+ MB\n"
     ]
    }
   ],
   "execution_count": 250
  },
  {
   "metadata": {
    "ExecuteTime": {
     "end_time": "2025-05-17T20:19:17.839451Z",
     "start_time": "2025-05-17T20:19:17.827810Z"
    }
   },
   "cell_type": "code",
   "source": [
    "# covariance matrix on numeric columns\n",
    "numeric_data = data.select_dtypes(include=['number', 'float'])\n",
    "numeric_data.cov()\n"
   ],
   "outputs": [
    {
     "data": {
      "text/plain": [
       "                   temperature  has_children  toCoupon_GEQ5min  \\\n",
       "temperature         366.852199     -0.175502               0.0   \n",
       "has_children         -0.175502      0.242711               0.0   \n",
       "toCoupon_GEQ5min      0.000000      0.000000               0.0   \n",
       "toCoupon_GEQ15min    -1.493656      0.019427               0.0   \n",
       "toCoupon_GEQ25min    -1.393448     -0.001700               0.0   \n",
       "direction_same        0.771641     -0.006554               0.0   \n",
       "direction_opp        -0.771641      0.006554               0.0   \n",
       "Y                     0.563590     -0.010997               0.0   \n",
       "\n",
       "                   toCoupon_GEQ15min  toCoupon_GEQ25min  direction_same  \\\n",
       "temperature                -1.493656          -1.393448        0.771641   \n",
       "has_children                0.019427          -0.001700       -0.006554   \n",
       "toCoupon_GEQ5min            0.000000           0.000000        0.000000   \n",
       "toCoupon_GEQ15min           0.246444           0.051076       -0.061664   \n",
       "toCoupon_GEQ25min           0.051076           0.102567       -0.025009   \n",
       "direction_same             -0.061664          -0.025009        0.169098   \n",
       "direction_opp               0.061664           0.025009       -0.169098   \n",
       "Y                          -0.020338          -0.017158        0.003042   \n",
       "\n",
       "                   direction_opp         Y  \n",
       "temperature            -0.771641  0.563590  \n",
       "has_children            0.006554 -0.010997  \n",
       "toCoupon_GEQ5min        0.000000  0.000000  \n",
       "toCoupon_GEQ15min       0.061664 -0.020338  \n",
       "toCoupon_GEQ25min       0.025009 -0.017158  \n",
       "direction_same         -0.169098  0.003042  \n",
       "direction_opp           0.169098 -0.003042  \n",
       "Y                      -0.003042  0.245454  "
      ],
      "text/html": [
       "<div>\n",
       "<style scoped>\n",
       "    .dataframe tbody tr th:only-of-type {\n",
       "        vertical-align: middle;\n",
       "    }\n",
       "\n",
       "    .dataframe tbody tr th {\n",
       "        vertical-align: top;\n",
       "    }\n",
       "\n",
       "    .dataframe thead th {\n",
       "        text-align: right;\n",
       "    }\n",
       "</style>\n",
       "<table border=\"1\" class=\"dataframe\">\n",
       "  <thead>\n",
       "    <tr style=\"text-align: right;\">\n",
       "      <th></th>\n",
       "      <th>temperature</th>\n",
       "      <th>has_children</th>\n",
       "      <th>toCoupon_GEQ5min</th>\n",
       "      <th>toCoupon_GEQ15min</th>\n",
       "      <th>toCoupon_GEQ25min</th>\n",
       "      <th>direction_same</th>\n",
       "      <th>direction_opp</th>\n",
       "      <th>Y</th>\n",
       "    </tr>\n",
       "  </thead>\n",
       "  <tbody>\n",
       "    <tr>\n",
       "      <th>temperature</th>\n",
       "      <td>366.852199</td>\n",
       "      <td>-0.175502</td>\n",
       "      <td>0.0</td>\n",
       "      <td>-1.493656</td>\n",
       "      <td>-1.393448</td>\n",
       "      <td>0.771641</td>\n",
       "      <td>-0.771641</td>\n",
       "      <td>0.563590</td>\n",
       "    </tr>\n",
       "    <tr>\n",
       "      <th>has_children</th>\n",
       "      <td>-0.175502</td>\n",
       "      <td>0.242711</td>\n",
       "      <td>0.0</td>\n",
       "      <td>0.019427</td>\n",
       "      <td>-0.001700</td>\n",
       "      <td>-0.006554</td>\n",
       "      <td>0.006554</td>\n",
       "      <td>-0.010997</td>\n",
       "    </tr>\n",
       "    <tr>\n",
       "      <th>toCoupon_GEQ5min</th>\n",
       "      <td>0.000000</td>\n",
       "      <td>0.000000</td>\n",
       "      <td>0.0</td>\n",
       "      <td>0.000000</td>\n",
       "      <td>0.000000</td>\n",
       "      <td>0.000000</td>\n",
       "      <td>0.000000</td>\n",
       "      <td>0.000000</td>\n",
       "    </tr>\n",
       "    <tr>\n",
       "      <th>toCoupon_GEQ15min</th>\n",
       "      <td>-1.493656</td>\n",
       "      <td>0.019427</td>\n",
       "      <td>0.0</td>\n",
       "      <td>0.246444</td>\n",
       "      <td>0.051076</td>\n",
       "      <td>-0.061664</td>\n",
       "      <td>0.061664</td>\n",
       "      <td>-0.020338</td>\n",
       "    </tr>\n",
       "    <tr>\n",
       "      <th>toCoupon_GEQ25min</th>\n",
       "      <td>-1.393448</td>\n",
       "      <td>-0.001700</td>\n",
       "      <td>0.0</td>\n",
       "      <td>0.051076</td>\n",
       "      <td>0.102567</td>\n",
       "      <td>-0.025009</td>\n",
       "      <td>0.025009</td>\n",
       "      <td>-0.017158</td>\n",
       "    </tr>\n",
       "    <tr>\n",
       "      <th>direction_same</th>\n",
       "      <td>0.771641</td>\n",
       "      <td>-0.006554</td>\n",
       "      <td>0.0</td>\n",
       "      <td>-0.061664</td>\n",
       "      <td>-0.025009</td>\n",
       "      <td>0.169098</td>\n",
       "      <td>-0.169098</td>\n",
       "      <td>0.003042</td>\n",
       "    </tr>\n",
       "    <tr>\n",
       "      <th>direction_opp</th>\n",
       "      <td>-0.771641</td>\n",
       "      <td>0.006554</td>\n",
       "      <td>0.0</td>\n",
       "      <td>0.061664</td>\n",
       "      <td>0.025009</td>\n",
       "      <td>-0.169098</td>\n",
       "      <td>0.169098</td>\n",
       "      <td>-0.003042</td>\n",
       "    </tr>\n",
       "    <tr>\n",
       "      <th>Y</th>\n",
       "      <td>0.563590</td>\n",
       "      <td>-0.010997</td>\n",
       "      <td>0.0</td>\n",
       "      <td>-0.020338</td>\n",
       "      <td>-0.017158</td>\n",
       "      <td>0.003042</td>\n",
       "      <td>-0.003042</td>\n",
       "      <td>0.245454</td>\n",
       "    </tr>\n",
       "  </tbody>\n",
       "</table>\n",
       "</div>"
      ]
     },
     "execution_count": 252,
     "metadata": {},
     "output_type": "execute_result"
    }
   ],
   "execution_count": 252
  },
  {
   "metadata": {
    "ExecuteTime": {
     "end_time": "2025-05-17T20:20:12.862565Z",
     "start_time": "2025-05-17T20:20:12.851491Z"
    }
   },
   "cell_type": "code",
   "source": [
    "# correlation matrix on numeric columns\n",
    "correlation_matrix = numeric_data.corr()"
   ],
   "outputs": [
    {
     "data": {
      "text/plain": [
       "                   temperature  has_children  toCoupon_GEQ5min  \\\n",
       "temperature           1.000000     -0.018599               NaN   \n",
       "has_children         -0.018599      1.000000               NaN   \n",
       "toCoupon_GEQ5min           NaN           NaN               NaN   \n",
       "toCoupon_GEQ15min    -0.157089      0.079434               NaN   \n",
       "toCoupon_GEQ25min    -0.227165     -0.010773               NaN   \n",
       "direction_same        0.097972     -0.032353               NaN   \n",
       "direction_opp        -0.097972      0.032353               NaN   \n",
       "Y                     0.059393     -0.045056               NaN   \n",
       "\n",
       "                   toCoupon_GEQ15min  toCoupon_GEQ25min  direction_same  \\\n",
       "temperature                -0.157089          -0.227165        0.097972   \n",
       "has_children                0.079434          -0.010773       -0.032353   \n",
       "toCoupon_GEQ5min                 NaN                NaN             NaN   \n",
       "toCoupon_GEQ15min           1.000000           0.321260       -0.302066   \n",
       "toCoupon_GEQ25min           0.321260           1.000000       -0.189900   \n",
       "direction_same             -0.302066          -0.189900        1.000000   \n",
       "direction_opp               0.302066           0.189900       -1.000000   \n",
       "Y                          -0.082693          -0.108139        0.014932   \n",
       "\n",
       "                   direction_opp         Y  \n",
       "temperature            -0.097972  0.059393  \n",
       "has_children            0.032353 -0.045056  \n",
       "toCoupon_GEQ5min             NaN       NaN  \n",
       "toCoupon_GEQ15min       0.302066 -0.082693  \n",
       "toCoupon_GEQ25min       0.189900 -0.108139  \n",
       "direction_same         -1.000000  0.014932  \n",
       "direction_opp           1.000000 -0.014932  \n",
       "Y                      -0.014932  1.000000  "
      ],
      "text/html": [
       "<div>\n",
       "<style scoped>\n",
       "    .dataframe tbody tr th:only-of-type {\n",
       "        vertical-align: middle;\n",
       "    }\n",
       "\n",
       "    .dataframe tbody tr th {\n",
       "        vertical-align: top;\n",
       "    }\n",
       "\n",
       "    .dataframe thead th {\n",
       "        text-align: right;\n",
       "    }\n",
       "</style>\n",
       "<table border=\"1\" class=\"dataframe\">\n",
       "  <thead>\n",
       "    <tr style=\"text-align: right;\">\n",
       "      <th></th>\n",
       "      <th>temperature</th>\n",
       "      <th>has_children</th>\n",
       "      <th>toCoupon_GEQ5min</th>\n",
       "      <th>toCoupon_GEQ15min</th>\n",
       "      <th>toCoupon_GEQ25min</th>\n",
       "      <th>direction_same</th>\n",
       "      <th>direction_opp</th>\n",
       "      <th>Y</th>\n",
       "    </tr>\n",
       "  </thead>\n",
       "  <tbody>\n",
       "    <tr>\n",
       "      <th>temperature</th>\n",
       "      <td>1.000000</td>\n",
       "      <td>-0.018599</td>\n",
       "      <td>NaN</td>\n",
       "      <td>-0.157089</td>\n",
       "      <td>-0.227165</td>\n",
       "      <td>0.097972</td>\n",
       "      <td>-0.097972</td>\n",
       "      <td>0.059393</td>\n",
       "    </tr>\n",
       "    <tr>\n",
       "      <th>has_children</th>\n",
       "      <td>-0.018599</td>\n",
       "      <td>1.000000</td>\n",
       "      <td>NaN</td>\n",
       "      <td>0.079434</td>\n",
       "      <td>-0.010773</td>\n",
       "      <td>-0.032353</td>\n",
       "      <td>0.032353</td>\n",
       "      <td>-0.045056</td>\n",
       "    </tr>\n",
       "    <tr>\n",
       "      <th>toCoupon_GEQ5min</th>\n",
       "      <td>NaN</td>\n",
       "      <td>NaN</td>\n",
       "      <td>NaN</td>\n",
       "      <td>NaN</td>\n",
       "      <td>NaN</td>\n",
       "      <td>NaN</td>\n",
       "      <td>NaN</td>\n",
       "      <td>NaN</td>\n",
       "    </tr>\n",
       "    <tr>\n",
       "      <th>toCoupon_GEQ15min</th>\n",
       "      <td>-0.157089</td>\n",
       "      <td>0.079434</td>\n",
       "      <td>NaN</td>\n",
       "      <td>1.000000</td>\n",
       "      <td>0.321260</td>\n",
       "      <td>-0.302066</td>\n",
       "      <td>0.302066</td>\n",
       "      <td>-0.082693</td>\n",
       "    </tr>\n",
       "    <tr>\n",
       "      <th>toCoupon_GEQ25min</th>\n",
       "      <td>-0.227165</td>\n",
       "      <td>-0.010773</td>\n",
       "      <td>NaN</td>\n",
       "      <td>0.321260</td>\n",
       "      <td>1.000000</td>\n",
       "      <td>-0.189900</td>\n",
       "      <td>0.189900</td>\n",
       "      <td>-0.108139</td>\n",
       "    </tr>\n",
       "    <tr>\n",
       "      <th>direction_same</th>\n",
       "      <td>0.097972</td>\n",
       "      <td>-0.032353</td>\n",
       "      <td>NaN</td>\n",
       "      <td>-0.302066</td>\n",
       "      <td>-0.189900</td>\n",
       "      <td>1.000000</td>\n",
       "      <td>-1.000000</td>\n",
       "      <td>0.014932</td>\n",
       "    </tr>\n",
       "    <tr>\n",
       "      <th>direction_opp</th>\n",
       "      <td>-0.097972</td>\n",
       "      <td>0.032353</td>\n",
       "      <td>NaN</td>\n",
       "      <td>0.302066</td>\n",
       "      <td>0.189900</td>\n",
       "      <td>-1.000000</td>\n",
       "      <td>1.000000</td>\n",
       "      <td>-0.014932</td>\n",
       "    </tr>\n",
       "    <tr>\n",
       "      <th>Y</th>\n",
       "      <td>0.059393</td>\n",
       "      <td>-0.045056</td>\n",
       "      <td>NaN</td>\n",
       "      <td>-0.082693</td>\n",
       "      <td>-0.108139</td>\n",
       "      <td>0.014932</td>\n",
       "      <td>-0.014932</td>\n",
       "      <td>1.000000</td>\n",
       "    </tr>\n",
       "  </tbody>\n",
       "</table>\n",
       "</div>"
      ]
     },
     "execution_count": 253,
     "metadata": {},
     "output_type": "execute_result"
    }
   ],
   "execution_count": 253
  },
  {
   "metadata": {
    "ExecuteTime": {
     "end_time": "2025-05-17T20:28:40.072078Z",
     "start_time": "2025-05-17T20:28:39.917999Z"
    }
   },
   "cell_type": "code",
   "source": [
    "# plot the heat map\n",
    "sns.heatmap(correlation_matrix, annot=True)\n",
    "plt.title(\"Correlation Matrix\")\n",
    "plt.show()\n"
   ],
   "outputs": [
    {
     "data": {
      "text/plain": [
       "<Figure size 640x480 with 2 Axes>"
      ],
      "image/png": "[encoded data removed]"
     },
     "metadata": {},
     "output_type": "display_data"
    }
   ],
   "execution_count": 258
  },
  {
   "metadata": {
    "ExecuteTime": {
     "end_time": "2025-05-17T20:33:03.396132Z",
     "start_time": "2025-05-17T20:32:57.231677Z"
    }
   },
   "cell_type": "code",
   "source": [
    "# check pair plot with all numeric columns\n",
    "sns.pairplot(numeric_data)"
   ],
   "outputs": [
    {
     "data": {
      "text/plain": [
       "<seaborn.axisgrid.PairGrid at 0x20a1e408a70>"
      ]
     },
     "execution_count": 259,
     "metadata": {},
     "output_type": "execute_result"
    },
    {
     "data": {
      "text/plain": [
       "<Figure size 2000x2000 with 72 Axes>"
      ],
      "image/png": "[encoded data removed]"
     },
     "metadata": {},
     "output_type": "display_data"
    }
   ],
   "execution_count": 259
  },
  {
   "cell_type": "markdown",
   "metadata": {
    "id": "YE6oJbXd_qRI"
   },
   "source": [
    "4. What proportion of the total observations chose to accept the coupon?\n",
    "\n"
   ]
  },
  {
   "cell_type": "code",
   "metadata": {
    "id": "86GGqBTv_qRI",
    "ExecuteTime": {
     "end_time": "2025-05-17T20:10:52.127984Z",
     "start_time": "2025-05-17T20:10:52.125179Z"
    }
   },
   "source": [],
   "outputs": [],
   "execution_count": null
  },
  {
   "cell_type": "markdown",
   "metadata": {
    "id": "vflz0DoE_qRI"
   },
   "source": [
    "5. Use a bar plot to visualize the `coupon` column."
   ]
  },
  {
   "cell_type": "code",
   "metadata": {
    "id": "dHFh3E45_qRI",
    "ExecuteTime": {
     "end_time": "2025-05-17T20:10:52.153277Z",
     "start_time": "2025-05-17T20:10:52.150598Z"
    }
   },
   "source": [],
   "outputs": [],
   "execution_count": null
  },
  {
   "cell_type": "markdown",
   "metadata": {
    "id": "Qw4lCyx2_qRI"
   },
   "source": [
    "6. Use a histogram to visualize the temperature column."
   ]
  },
  {
   "cell_type": "code",
   "metadata": {
    "id": "Yg9Anv71_qRI",
    "ExecuteTime": {
     "end_time": "2025-05-17T20:10:52.182043Z",
     "start_time": "2025-05-17T20:10:52.178778Z"
    }
   },
   "source": [],
   "outputs": [],
   "execution_count": null
  },
  {
   "cell_type": "code",
   "metadata": {
    "id": "zLtOaJQk_qRI",
    "ExecuteTime": {
     "end_time": "2025-05-17T20:10:52.209793Z",
     "start_time": "2025-05-17T20:10:52.207772Z"
    }
   },
   "source": [],
   "outputs": [],
   "execution_count": null
  },
  {
   "cell_type": "code",
   "metadata": {
    "id": "7GBHZKBp_qRJ",
    "ExecuteTime": {
     "end_time": "2025-05-17T20:10:52.267723Z",
     "start_time": "2025-05-17T20:10:52.264849Z"
    }
   },
   "source": [],
   "outputs": [],
   "execution_count": null
  },
  {
   "cell_type": "code",
   "metadata": {
    "id": "Y5nBUA-j_qRJ",
    "ExecuteTime": {
     "end_time": "2025-05-17T20:10:52.283170Z",
     "start_time": "2025-05-17T20:10:52.280843Z"
    }
   },
   "source": [],
   "outputs": [],
   "execution_count": null
  },
  {
   "cell_type": "code",
   "metadata": {
    "id": "ShcUC-Vm_qRJ",
    "ExecuteTime": {
     "end_time": "2025-05-17T20:10:52.308205Z",
     "start_time": "2025-05-17T20:10:52.305671Z"
    }
   },
   "source": [],
   "outputs": [],
   "execution_count": null
  },
  {
   "cell_type": "markdown",
   "metadata": {
    "id": "FupfgeJk_qRJ"
   },
   "source": [
    "**Investigating the Bar Coupons**\n",
    "\n",
    "Now, we will lead you through an exploration of just the bar related coupons.  \n",
    "\n",
    "1. Create a new `DataFrame` that contains just the bar coupons.\n"
   ]
  },
  {
   "cell_type": "code",
   "metadata": {
    "id": "tMBlWuGq_qRJ",
    "ExecuteTime": {
     "end_time": "2025-05-17T20:10:52.353532Z",
     "start_time": "2025-05-17T20:10:52.350127Z"
    }
   },
   "source": [],
   "outputs": [],
   "execution_count": null
  },
  {
   "cell_type": "markdown",
   "metadata": {
    "id": "8ue6uCqf_qRJ"
   },
   "source": [
    "2. What proportion of bar coupons were accepted?\n"
   ]
  },
  {
   "cell_type": "code",
   "metadata": {
    "id": "hSdte8Mi_qRK",
    "ExecuteTime": {
     "end_time": "2025-05-17T20:10:52.359113Z",
     "start_time": "2025-05-17T20:10:52.356651Z"
    }
   },
   "source": [],
   "outputs": [],
   "execution_count": null
  },
  {
   "cell_type": "markdown",
   "metadata": {
    "id": "85nA_iEi_qRK"
   },
   "source": [
    "3. Compare the acceptance rate between those who went to a bar 3 or fewer times a month to those who went more.\n"
   ]
  },
  {
   "cell_type": "code",
   "metadata": {
    "id": "LBOrN-XM_qRK",
    "ExecuteTime": {
     "end_time": "2025-05-17T20:10:52.392881Z",
     "start_time": "2025-05-17T20:10:52.390182Z"
    }
   },
   "source": [],
   "outputs": [],
   "execution_count": null
  },
  {
   "cell_type": "markdown",
   "metadata": {
    "id": "RBgcQwH4_qRK"
   },
   "source": [
    "4. Compare the acceptance rate between drivers who go to a bar more than once a month and are over the age of 25 to the all others.  Is there a difference?\n"
   ]
  },
  {
   "cell_type": "code",
   "metadata": {
    "id": "bf28bbeX_qRK",
    "ExecuteTime": {
     "end_time": "2025-05-17T20:10:52.416945Z",
     "start_time": "2025-05-17T20:10:52.414782Z"
    }
   },
   "source": [],
   "outputs": [],
   "execution_count": null
  },
  {
   "cell_type": "markdown",
   "metadata": {
    "id": "S4RKT4PJ_qRK"
   },
   "source": [
    "5. Use the same process to compare the acceptance rate between drivers who go to bars more than once a month and had passengers that were not a kid and had occupations other than farming, fishing, or forestry.\n"
   ]
  },
  {
   "cell_type": "code",
   "metadata": {
    "id": "sENaI2Tg_qRK",
    "ExecuteTime": {
     "end_time": "2025-05-17T20:10:52.440906Z",
     "start_time": "2025-05-17T20:10:52.437755Z"
    }
   },
   "source": [],
   "outputs": [],
   "execution_count": null
  },
  {
   "cell_type": "markdown",
   "metadata": {
    "id": "n2LIUTil_qRK"
   },
   "source": [
    "6. Compare the acceptance rates between those drivers who:\n",
    "\n",
    "- go to bars more than once a month, had passengers that were not a kid, and were not widowed *OR*\n",
    "- go to bars more than once a month and are under the age of 30 *OR*\n",
    "- go to cheap restaurants more than 4 times a month and income is less than 50K.\n",
    "\n"
   ]
  },
  {
   "cell_type": "code",
   "metadata": {
    "id": "aK_wEzx7_qRK",
    "ExecuteTime": {
     "end_time": "2025-05-17T20:10:52.465775Z",
     "start_time": "2025-05-17T20:10:52.462726Z"
    }
   },
   "source": [],
   "outputs": [],
   "execution_count": null
  },
  {
   "cell_type": "markdown",
   "metadata": {
    "id": "v3fL3QkO_qRK"
   },
   "source": [
    "7.  Based on these observations, what do you hypothesize about drivers who accepted the bar coupons?"
   ]
  },
  {
   "cell_type": "code",
   "metadata": {
    "id": "Y48naDFh_qRL",
    "ExecuteTime": {
     "end_time": "2025-05-17T20:10:52.490654Z",
     "start_time": "2025-05-17T20:10:52.488161Z"
    }
   },
   "source": [],
   "outputs": [],
   "execution_count": null
  },
  {
   "cell_type": "markdown",
   "metadata": {
    "id": "r4Hu1zOb_qRL"
   },
   "source": [
    "### Independent Investigation\n",
    "\n",
    "Using the bar coupon example as motivation, you are to explore one of the other coupon groups and try to determine the characteristics of passengers who accept the coupons.  "
   ]
  },
  {
   "cell_type": "code",
   "metadata": {
    "id": "0c71cQhu_qRL",
    "ExecuteTime": {
     "end_time": "2025-05-17T20:10:52.515677Z",
     "start_time": "2025-05-17T20:10:52.513432Z"
    }
   },
   "source": [],
   "outputs": [],
   "execution_count": null
  },
  {
   "cell_type": "code",
   "metadata": {
    "id": "QEsBkvIN_qRL",
    "ExecuteTime": {
     "end_time": "2025-05-17T20:10:52.548667Z",
     "start_time": "2025-05-17T20:10:52.545546Z"
    }
   },
   "source": [],
   "outputs": [],
   "execution_count": null
  },
  {
   "cell_type": "code",
   "metadata": {
    "id": "fTC2WGE3_qRL",
    "ExecuteTime": {
     "end_time": "2025-05-17T20:10:52.575032Z",
     "start_time": "2025-05-17T20:10:52.572126Z"
    }
   },
   "source": [],
   "outputs": [],
   "execution_count": null
  },
  {
   "cell_type": "code",
   "metadata": {
    "id": "RrqUWn7d_qRL",
    "ExecuteTime": {
     "end_time": "2025-05-17T20:10:52.600838Z",
     "start_time": "2025-05-17T20:10:52.598569Z"
    }
   },
   "source": [],
   "outputs": [],
   "execution_count": null
  },
  {
   "cell_type": "code",
   "metadata": {
    "id": "_oykf8YP_qRL",
    "ExecuteTime": {
     "end_time": "2025-05-17T20:10:52.636030Z",
     "start_time": "2025-05-17T20:10:52.633492Z"
    }
   },
   "source": [],
   "outputs": [],
   "execution_count": null
  }
 ],
 "metadata": {
  "kernelspec": {
   "display_name": "Python 3 (ipykernel)",
   "language": "python",
   "name": "python3"
  },
  "language_info": {
   "codemirror_mode": {
    "name": "ipython",
    "version": 3
   },
   "file_extension": ".py",
   "mimetype": "text/x-python",
   "name": "python",
   "nbconvert_exporter": "python",
   "pygments_lexer": "ipython3",
   "version": "3.12.1"
  },
  "colab": {
   "provenance": []
  }
 },
 "nbformat": 4,
 "nbformat_minor": 0
}
